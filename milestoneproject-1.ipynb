{
 "cells": [
  {
   "cell_type": "code",
   "execution_count": 2,
   "metadata": {},
   "outputs": [
    {
     "name": "stdout",
     "output_type": "stream",
     "text": [
      "   |   |   \n",
      "---|---|---\n",
      "   |   |   \n",
      "---|---|---\n",
      "   |   |   \n"
     ]
    }
   ],
   "source": [
    "from IPython.display import clear_output\n",
    "\n",
    "def display_board(board):\n",
    "    clear_output()\n",
    "    print(' '+board[1]+' | '+board[2]+' | '+board[3]+' ')\n",
    "    print('---|---|---')\n",
    "    print(' '+board[4]+' | '+board[5]+' | '+board[6]+' ')\n",
    "    print('---|---|---')\n",
    "    print(' '+board[7]+' | '+board[8]+' | '+board[9]+' ')\n",
    "\n",
    "board = [' ']*10\n",
    "display_board(board)\n",
    "\n",
    "def player_input():\n",
    "    \n",
    "    marker = ''\n",
    "    \n",
    "    # Keep asking player 1 to choose X or O\n",
    "    \n",
    "    while marker != 'X' and marker != 'O':\n",
    "        marker = input('Player 1, choose X or O: ')\n",
    "    \n",
    "    # Assigned Player 2, the opposite marker\n",
    "    player1 = marker\n",
    "    \n",
    "    if player1 == 'X':\n",
    "        player2 = 'O'\n",
    "    else:\n",
    "        player2 = 'X'\n",
    "        \n",
    "    return (player1,player2)\n",
    "\n",
    "def place_marker(board, marker, position):\n",
    "\n",
    "    board[position] = marker\n",
    "\n",
    "def win_check(board, mark):\n",
    "    # WIN TIC TAC TOE\n",
    "    # CHECK ALL ROWS, AND CHECK TO SEE IF THEY ALL SHARE THE SAME MARKER?\n",
    "   ((board[1] == board[2] == board[3] == mark) or # bottom row\n",
    "    (board[4] == board[5] == board[6] == mark) or # middle row\n",
    "    (board[7] == board[8] == board[9] == mark) or # top row\n",
    "    (board[7] == board[4] == board[1] == mark) or # left column\n",
    "    (board[8] == board[5] == board[2] == mark) or # middle column\n",
    "    (board[9] == board[6] == board[3] == mark) or # right column\n",
    "    (board[7] == board[5] == board[3] == mark) or # down diagnonal\n",
    "    (board[9] == board[5] == board[1] == mark)) # up diagnonal\n",
    "\n",
    "    \n",
    "    # ALL COLUMNS, CHECK TO SEE IF MARKER MATCHES\n",
    "    \n",
    "    # 2 DIAGONALS, CHECK TO SEE MATCH\n",
    "\n"
   ]
  }
 ],
 "metadata": {
  "kernelspec": {
   "display_name": "base",
   "language": "python",
   "name": "python3"
  },
  "language_info": {
   "codemirror_mode": {
    "name": "ipython",
    "version": 3
   },
   "file_extension": ".py",
   "mimetype": "text/x-python",
   "name": "python",
   "nbconvert_exporter": "python",
   "pygments_lexer": "ipython3",
   "version": "3.9.7"
  }
 },
 "nbformat": 4,
 "nbformat_minor": 2
}
